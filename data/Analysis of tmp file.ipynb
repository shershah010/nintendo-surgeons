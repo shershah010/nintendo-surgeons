{
 "cells": [
  {
   "cell_type": "code",
   "execution_count": 20,
   "metadata": {},
   "outputs": [],
   "source": [
    "import pandas as pd\n",
    "import numpy as np\n",
    "import matplotlib.pyplot as plt\n",
    "import seaborn as sns\n",
    "\n",
    "from sklearn.linear_model import LinearRegression"
   ]
  },
  {
   "cell_type": "code",
   "execution_count": 3,
   "metadata": {},
   "outputs": [],
   "source": [
    "pwm20a = pd.read_csv('vision_fix20_03_12_2019_04_12_54.csv')\n",
    "pwm20b = pd.read_csv('vision_fix20_03_12_2019_04_13_15.csv')\n",
    "pwm20c = pd.read_csv('vision_fix20_03_12_2019_04_13_36.csv')\n",
    "pwm20d = pd.read_csv('vision_fix20_03_12_2019_04_13_57.csv')\n",
    "pwm20e = pd.read_csv('vision_fix20_03_12_2019_04_14_19.csv')\n",
    "\n",
    "pwm40a = pd.read_csv('vision_fix40_03_12_2019_04_14_40.csv')\n",
    "pwm40b = pd.read_csv('vision_fix40_03_12_2019_04_15_01.csv')\n",
    "pwm40c = pd.read_csv('vision_fix40_03_12_2019_04_15_22.csv')\n",
    "pwm40d = pd.read_csv('vision_fix40_03_12_2019_04_15_43.csv')\n",
    "pwm40e = pd.read_csv('vision_fix40_03_12_2019_04_16_04.csv')\n",
    "\n",
    "pwm60a = pd.read_csv('vision_fix60_03_12_2019_04_16_25.csv')\n",
    "pwm60b = pd.read_csv('vision_fix60_03_12_2019_04_16_46.csv')\n",
    "pwm60c = pd.read_csv('vision_fix60_03_12_2019_04_17_07.csv')\n",
    "pwm60d = pd.read_csv('vision_fix60_03_12_2019_04_17_28.csv')\n",
    "pwm60e = pd.read_csv('vision_fix60_03_12_2019_04_17_49.csv')\n",
    "\n",
    "pwm80a = pd.read_csv('vision_fix80_03_12_2019_04_18_10.csv')\n",
    "pwm80b = pd.read_csv('vision_fix80_03_12_2019_04_18_32.csv')\n",
    "pwm80c = pd.read_csv('vision_fix80_03_12_2019_04_18_53.csv')\n",
    "pwm80d = pd.read_csv('vision_fix80_03_12_2019_04_19_14.csv')\n",
    "pwm80e = pd.read_csv('vision_fix80_03_12_2019_04_19_35.csv')\n",
    "\n",
    "pwm100a = pd.read_csv('vision_fix100_03_12_2019_04_19_56.csv')\n",
    "pwm100b = pd.read_csv('vision_fix100_03_12_2019_04_20_17.csv')\n",
    "pwm100c = pd.read_csv('vision_fix100_03_12_2019_04_20_38.csv')\n",
    "pwm100d = pd.read_csv('vision_fix100_03_12_2019_04_20_59.csv')\n",
    "pwm100e = pd.read_csv('vision_fix100_03_12_2019_04_21_20.csv')\n",
    "\n",
    "pwm120a = pd.read_csv('vision_fix120_03_12_2019_04_21_41.csv')\n",
    "pwm120b = pd.read_csv('vision_fix120_03_12_2019_04_22_02.csv')\n",
    "pwm120c = pd.read_csv('vision_fix120_03_12_2019_04_22_24.csv')\n",
    "pwm120d = pd.read_csv('vision_fix120_03_12_2019_04_22_45.csv')\n",
    "pwm120e = pd.read_csv('vision_fix120_03_12_2019_04_23_06.csv')\n",
    "\n",
    "pwm140a = pd.read_csv('vision_fix140_03_12_2019_04_23_27.csv')\n",
    "pwm140b = pd.read_csv('vision_fix140_03_12_2019_04_23_48.csv')\n",
    "pwm140c = pd.read_csv('vision_fix140_03_12_2019_04_24_09.csv')\n",
    "pwm140d = pd.read_csv('vision_fix140_03_12_2019_04_24_30.csv')\n",
    "pwm140e = pd.read_csv('vision_fix140_03_12_2019_04_24_51.csv')\n",
    "\n",
    "pwm160a = pd.read_csv('vision_fix160_03_12_2019_04_25_12.csv')\n",
    "pwm160b = pd.read_csv('vision_fix160_03_12_2019_04_25_33.csv')\n",
    "pwm160c = pd.read_csv('vision_fix160_03_12_2019_04_25_54.csv')\n",
    "pwm160d = pd.read_csv('vision_fix160_03_12_2019_04_26_16.csv')\n",
    "pwm160e = pd.read_csv('vision_fix160_03_12_2019_04_26_37.csv')\n",
    "\n",
    "pwm180a = pd.read_csv('vision_fix180_03_12_2019_04_26_58.csv')\n",
    "pwm180b = pd.read_csv('vision_fix180_03_12_2019_04_27_19.csv')\n",
    "pwm180c = pd.read_csv('vision_fix180_03_12_2019_04_27_40.csv')\n",
    "pwm180d = pd.read_csv('vision_fix180_03_12_2019_04_28_01.csv')\n",
    "pwm180e = pd.read_csv('vision_fix180_03_12_2019_04_28_22.csv')\n",
    "\n",
    "pwm200a = pd.read_csv('vision_fix200_03_12_2019_04_28_43.csv')\n",
    "pwm200b = pd.read_csv('vision_fix200_03_12_2019_04_29_04.csv')\n",
    "pwm200c = pd.read_csv('vision_fix200_03_12_2019_04_29_25.csv')\n",
    "pwm200d = pd.read_csv('vision_fix200_03_12_2019_04_29_47.csv')\n",
    "pwm200e = pd.read_csv('vision_fix200_03_12_2019_04_30_08.csv')"
   ]
  },
  {
   "cell_type": "code",
   "execution_count": 5,
   "metadata": {},
   "outputs": [],
   "source": [
    "pwms = [pwm20a, pwm20b, pwm20c, pwm20d, pwm20e,\n",
    "        pwm40a, pwm40b, pwm40c, pwm40d, pwm40e,\n",
    "        pwm60a, pwm60b, pwm60c, pwm60d, pwm60e,\n",
    "        pwm80a, pwm80b, pwm80c, pwm80d, pwm80e,\n",
    "        pwm100a, pwm100b, pwm100c, pwm100d, pwm100e,\n",
    "        pwm120a, pwm120b, pwm120c, pwm120d, pwm120e,\n",
    "        pwm140a, pwm140b, pwm140c, pwm140d, pwm140e,\n",
    "        pwm160a, pwm160b, pwm160c, pwm160d, pwm160e,\n",
    "        pwm180a, pwm180b, pwm180c, pwm180d, pwm180e,\n",
    "        pwm200a, pwm200b, pwm200c, pwm200d, pwm200e]"
   ]
  },
  {
   "cell_type": "code",
   "execution_count": 19,
   "metadata": {},
   "outputs": [],
   "source": [
    "for pwm in pwms:\n",
    "    pwm['flex^2'] = pwm['left_flex']**2"
   ]
  },
  {
   "cell_type": "code",
   "execution_count": 27,
   "metadata": {},
   "outputs": [
    {
     "data": {
      "text/html": [
       "<div>\n",
       "<style scoped>\n",
       "    .dataframe tbody tr th:only-of-type {\n",
       "        vertical-align: middle;\n",
       "    }\n",
       "\n",
       "    .dataframe tbody tr th {\n",
       "        vertical-align: top;\n",
       "    }\n",
       "\n",
       "    .dataframe thead th {\n",
       "        text-align: right;\n",
       "    }\n",
       "</style>\n",
       "<table border=\"1\" class=\"dataframe\">\n",
       "  <thead>\n",
       "    <tr style=\"text-align: right;\">\n",
       "      <th></th>\n",
       "      <th>Unnamed: 0</th>\n",
       "      <th>time</th>\n",
       "      <th>left_pwm</th>\n",
       "      <th>right_pwm</th>\n",
       "      <th>left_pressure</th>\n",
       "      <th>right_pressure</th>\n",
       "      <th>left_flex</th>\n",
       "      <th>right_flex</th>\n",
       "      <th>base_pos_x</th>\n",
       "      <th>base_pos_y</th>\n",
       "      <th>tip_pos_x</th>\n",
       "      <th>tip_pos_y</th>\n",
       "      <th>theta</th>\n",
       "      <th>flex^2</th>\n",
       "    </tr>\n",
       "  </thead>\n",
       "  <tbody>\n",
       "    <tr>\n",
       "      <td>0</td>\n",
       "      <td>0</td>\n",
       "      <td>0.000000</td>\n",
       "      <td>0.0</td>\n",
       "      <td>0.0</td>\n",
       "      <td>100.0</td>\n",
       "      <td>0.0</td>\n",
       "      <td>571.0</td>\n",
       "      <td>0.0</td>\n",
       "      <td>113.813985</td>\n",
       "      <td>-36.065777</td>\n",
       "      <td>112.077124</td>\n",
       "      <td>48.305858</td>\n",
       "      <td>-1.179315</td>\n",
       "      <td>326041.0</td>\n",
       "    </tr>\n",
       "    <tr>\n",
       "      <td>1</td>\n",
       "      <td>1</td>\n",
       "      <td>0.029968</td>\n",
       "      <td>0.0</td>\n",
       "      <td>0.0</td>\n",
       "      <td>101.0</td>\n",
       "      <td>0.0</td>\n",
       "      <td>571.0</td>\n",
       "      <td>0.0</td>\n",
       "      <td>113.820390</td>\n",
       "      <td>-36.059812</td>\n",
       "      <td>112.077272</td>\n",
       "      <td>48.242623</td>\n",
       "      <td>-1.184534</td>\n",
       "      <td>326041.0</td>\n",
       "    </tr>\n",
       "    <tr>\n",
       "      <td>2</td>\n",
       "      <td>2</td>\n",
       "      <td>0.049988</td>\n",
       "      <td>0.0</td>\n",
       "      <td>0.0</td>\n",
       "      <td>101.0</td>\n",
       "      <td>0.0</td>\n",
       "      <td>570.0</td>\n",
       "      <td>0.0</td>\n",
       "      <td>113.818922</td>\n",
       "      <td>-36.020225</td>\n",
       "      <td>112.090746</td>\n",
       "      <td>48.312630</td>\n",
       "      <td>-1.173959</td>\n",
       "      <td>324900.0</td>\n",
       "    </tr>\n",
       "    <tr>\n",
       "      <td>3</td>\n",
       "      <td>3</td>\n",
       "      <td>0.080017</td>\n",
       "      <td>0.0</td>\n",
       "      <td>0.0</td>\n",
       "      <td>101.0</td>\n",
       "      <td>0.0</td>\n",
       "      <td>571.0</td>\n",
       "      <td>0.0</td>\n",
       "      <td>113.818922</td>\n",
       "      <td>-36.020225</td>\n",
       "      <td>112.090746</td>\n",
       "      <td>48.312630</td>\n",
       "      <td>-1.173959</td>\n",
       "      <td>326041.0</td>\n",
       "    </tr>\n",
       "    <tr>\n",
       "      <td>4</td>\n",
       "      <td>4</td>\n",
       "      <td>0.099976</td>\n",
       "      <td>0.0</td>\n",
       "      <td>0.0</td>\n",
       "      <td>100.0</td>\n",
       "      <td>0.0</td>\n",
       "      <td>571.0</td>\n",
       "      <td>0.0</td>\n",
       "      <td>113.805491</td>\n",
       "      <td>-36.050650</td>\n",
       "      <td>112.076909</td>\n",
       "      <td>48.490193</td>\n",
       "      <td>-1.171347</td>\n",
       "      <td>326041.0</td>\n",
       "    </tr>\n",
       "  </tbody>\n",
       "</table>\n",
       "</div>"
      ],
      "text/plain": [
       "   Unnamed: 0      time  left_pwm  right_pwm  left_pressure  right_pressure  \\\n",
       "0           0  0.000000       0.0        0.0          100.0             0.0   \n",
       "1           1  0.029968       0.0        0.0          101.0             0.0   \n",
       "2           2  0.049988       0.0        0.0          101.0             0.0   \n",
       "3           3  0.080017       0.0        0.0          101.0             0.0   \n",
       "4           4  0.099976       0.0        0.0          100.0             0.0   \n",
       "\n",
       "   left_flex  right_flex  base_pos_x  base_pos_y   tip_pos_x  tip_pos_y  \\\n",
       "0      571.0         0.0  113.813985  -36.065777  112.077124  48.305858   \n",
       "1      571.0         0.0  113.820390  -36.059812  112.077272  48.242623   \n",
       "2      570.0         0.0  113.818922  -36.020225  112.090746  48.312630   \n",
       "3      571.0         0.0  113.818922  -36.020225  112.090746  48.312630   \n",
       "4      571.0         0.0  113.805491  -36.050650  112.076909  48.490193   \n",
       "\n",
       "      theta    flex^2  \n",
       "0 -1.179315  326041.0  \n",
       "1 -1.184534  326041.0  \n",
       "2 -1.173959  324900.0  \n",
       "3 -1.173959  326041.0  \n",
       "4 -1.171347  326041.0  "
      ]
     },
     "execution_count": 27,
     "metadata": {},
     "output_type": "execute_result"
    }
   ],
   "source": [
    "pwm20a.head()"
   ]
  },
  {
   "cell_type": "code",
   "execution_count": 7,
   "metadata": {},
   "outputs": [],
   "source": [
    "def theta(df):\n",
    "    delta_x = df['tip_pos_x'] - df['base_pos_x']\n",
    "    distance = np.sqrt((df['tip_pos_y'] - df['base_pos_y'])**2 +  (df['tip_pos_x'] - df['base_pos_x'])**2)\n",
    "    return np.arcsin(delta_x / distance) * (180 / np.pi)"
   ]
  },
  {
   "cell_type": "code",
   "execution_count": 32,
   "metadata": {},
   "outputs": [],
   "source": [
    "def rmse(y, y_hat):\n",
    "    return np.mean((y - y_hat)**2)"
   ]
  },
  {
   "cell_type": "code",
   "execution_count": 8,
   "metadata": {},
   "outputs": [],
   "source": [
    "def remove_transiet(thetas, time, thres=0.1):\n",
    "    cleaned_thetas = []\n",
    "    cleaned_times = []\n",
    "    prevTheta = thetas[0]\n",
    "    prevTime = time[0]\n",
    "    for theta, time in zip(thetas[::10], time[::10]):\n",
    "        if abs((theta - prevTheta) / (time - prevTime)) < thres:\n",
    "            cleaned_thetas.append(theta)\n",
    "            cleaned_times.append(time)\n",
    "        prevTheta = theta\n",
    "        prevTime = time\n",
    "    return np.array(cleaned_times), np.array(cleaned_thetas)"
   ]
  },
  {
   "cell_type": "code",
   "execution_count": 21,
   "metadata": {},
   "outputs": [],
   "source": [
    "def averageSS(thetas, times, df):\n",
    "    goodTimes = []\n",
    "    sumHigh = 0\n",
    "    count = 0\n",
    "    for theta, time in zip(thetas, times):\n",
    "        if theta > np.mean(thetas):\n",
    "            sumHigh += theta\n",
    "            count += 1\n",
    "            goodTimes.append(time)\n",
    "\n",
    "    return sumHigh / count, np.mean(df.loc[df['time'].isin(goodTimes)]['left_flex']), np.mean(df.loc[df['time'].isin(goodTimes)]['flex^2'])"
   ]
  },
  {
   "cell_type": "code",
   "execution_count": 24,
   "metadata": {},
   "outputs": [
    {
     "name": "stderr",
     "output_type": "stream",
     "text": [
      "/home/shershah/miniconda3/lib/python3.7/site-packages/ipykernel_launcher.py:7: RuntimeWarning: invalid value encountered in double_scalars\n",
      "  import sys\n"
     ]
    }
   ],
   "source": [
    "x = []\n",
    "y = []\n",
    "z = []\n",
    "for pwm in pwms:\n",
    "    pwm['theta'] = theta(pwm)\n",
    "    times, thetas = remove_transiet(pwm['theta'], pwm['time'])\n",
    "    xa, ya, za = averageSS(thetas, times, pwm)\n",
    "    x.append(xa)\n",
    "    y.append(ya)\n",
    "    z.append(za)"
   ]
  },
  {
   "cell_type": "code",
   "execution_count": 25,
   "metadata": {},
   "outputs": [
    {
     "data": {
      "text/plain": [
       "<matplotlib.collections.PathCollection at 0x7f2859719c50>"
      ]
     },
     "execution_count": 25,
     "metadata": {},
     "output_type": "execute_result"
    },
    {
     "data": {
      "image/png": "[encoded data removed]",
      "text/plain": [
       "<Figure size 432x288 with 1 Axes>"
      ]
     },
     "metadata": {
      "needs_background": "light"
     },
     "output_type": "display_data"
    }
   ],
   "source": [
    "plt.scatter(y, x)"
   ]
  },
  {
   "cell_type": "code",
   "execution_count": 26,
   "metadata": {},
   "outputs": [
    {
     "data": {
      "text/plain": [
       "236.43646535842956"
      ]
     },
     "execution_count": 26,
     "metadata": {},
     "output_type": "execute_result"
    }
   ],
   "source": [
    "s = (1 / np.dot(y, y)) * np.dot(y, x)\n",
    "np.mean((x - s * np.array(y))**2)"
   ]
  },
  {
   "cell_type": "code",
   "execution_count": 30,
   "metadata": {},
   "outputs": [],
   "source": [
    "model = LinearRegression().fit(np.array([y,z]).T, x)"
   ]
  },
  {
   "cell_type": "code",
   "execution_count": 31,
   "metadata": {},
   "outputs": [],
   "source": [
    "predicted_thetas = model.predict(np.array([y,z]).T)"
   ]
  },
  {
   "cell_type": "code",
   "execution_count": 33,
   "metadata": {},
   "outputs": [
    {
     "data": {
      "text/plain": [
       "0.06267628749182316"
      ]
     },
     "execution_count": 33,
     "metadata": {},
     "output_type": "execute_result"
    }
   ],
   "source": [
    "rmse(x, predicted_thetas)"
   ]
  },
  {
   "cell_type": "code",
   "execution_count": 35,
   "metadata": {},
   "outputs": [
    {
     "data": {
      "text/plain": [
       "[<matplotlib.lines.Line2D at 0x7f285965ee48>]"
      ]
     },
     "execution_count": 35,
     "metadata": {},
     "output_type": "execute_result"
    },
    {
     "data": {
      "image/png": "[encoded data removed]",
      "text/plain": [
       "<Figure size 432x288 with 1 Axes>"
      ]
     },
     "metadata": {
      "needs_background": "light"
     },
     "output_type": "display_data"
    }
   ],
   "source": [
    "plt.plot(x)\n",
    "plt.plot(predicted_thetas)"
   ]
  },
  {
   "cell_type": "code",
   "execution_count": 36,
   "metadata": {},
   "outputs": [
    {
     "data": {
      "text/plain": [
       "(array([-1.75505624,  0.00182829]), 431.12021095112414)"
      ]
     },
     "execution_count": 36,
     "metadata": {},
     "output_type": "execute_result"
    }
   ],
   "source": [
    "model.coef_, model.intercept_"
   ]
  },
  {
   "cell_type": "code",
   "execution_count": null,
   "metadata": {},
   "outputs": [],
   "source": []
  }
 ],
 "metadata": {
  "kernelspec": {
   "display_name": "Python 3",
   "language": "python",
   "name": "python3"
  },
  "language_info": {
   "codemirror_mode": {
    "name": "ipython",
    "version": 3
   },
   "file_extension": ".py",
   "mimetype": "text/x-python",
   "name": "python",
   "nbconvert_exporter": "python",
   "pygments_lexer": "ipython3",
   "version": "3.7.3"
  }
 },
 "nbformat": 4,
 "nbformat_minor": 2
}
