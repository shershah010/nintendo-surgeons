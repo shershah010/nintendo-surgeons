{
 "cells": [
  {
   "cell_type": "code",
   "execution_count": 103,
   "metadata": {},
   "outputs": [],
   "source": [
    "import pandas as pd\n",
    "import numpy as np\n",
    "import matplotlib.pyplot as plt\n",
    "from scipy.signal import medfilt"
   ]
  },
  {
   "cell_type": "code",
   "execution_count": 104,
   "metadata": {},
   "outputs": [],
   "source": [
    "df = pd.read_csv('longer/longer_ss200_0.csv')"
   ]
  },
  {
   "cell_type": "code",
   "execution_count": 105,
   "metadata": {},
   "outputs": [
    {
     "data": {
      "text/html": [
       "<div>\n",
       "<style scoped>\n",
       "    .dataframe tbody tr th:only-of-type {\n",
       "        vertical-align: middle;\n",
       "    }\n",
       "\n",
       "    .dataframe tbody tr th {\n",
       "        vertical-align: top;\n",
       "    }\n",
       "\n",
       "    .dataframe thead th {\n",
       "        text-align: right;\n",
       "    }\n",
       "</style>\n",
       "<table border=\"1\" class=\"dataframe\">\n",
       "  <thead>\n",
       "    <tr style=\"text-align: right;\">\n",
       "      <th></th>\n",
       "      <th>Unnamed: 0</th>\n",
       "      <th>time</th>\n",
       "      <th>left_pwm</th>\n",
       "      <th>right_pwm</th>\n",
       "      <th>left_pressure</th>\n",
       "      <th>right_pressure</th>\n",
       "      <th>left_flex</th>\n",
       "      <th>right_flex</th>\n",
       "      <th>base_pos_x</th>\n",
       "      <th>base_pos_y</th>\n",
       "      <th>tip_pos_x</th>\n",
       "      <th>tip_pos_y</th>\n",
       "    </tr>\n",
       "  </thead>\n",
       "  <tbody>\n",
       "    <tr>\n",
       "      <td>0</td>\n",
       "      <td>0</td>\n",
       "      <td>0.000000</td>\n",
       "      <td>0.0</td>\n",
       "      <td>0.0</td>\n",
       "      <td>101.0</td>\n",
       "      <td>0.0</td>\n",
       "      <td>603.0</td>\n",
       "      <td>0.0</td>\n",
       "      <td>112.969608</td>\n",
       "      <td>-35.971571</td>\n",
       "      <td>112.213581</td>\n",
       "      <td>48.617317</td>\n",
       "    </tr>\n",
       "    <tr>\n",
       "      <td>1</td>\n",
       "      <td>1</td>\n",
       "      <td>0.029785</td>\n",
       "      <td>0.0</td>\n",
       "      <td>0.0</td>\n",
       "      <td>102.0</td>\n",
       "      <td>0.0</td>\n",
       "      <td>603.0</td>\n",
       "      <td>0.0</td>\n",
       "      <td>112.986755</td>\n",
       "      <td>-35.978025</td>\n",
       "      <td>112.195227</td>\n",
       "      <td>48.581944</td>\n",
       "    </tr>\n",
       "    <tr>\n",
       "      <td>2</td>\n",
       "      <td>2</td>\n",
       "      <td>0.049805</td>\n",
       "      <td>0.0</td>\n",
       "      <td>0.0</td>\n",
       "      <td>100.0</td>\n",
       "      <td>0.0</td>\n",
       "      <td>605.0</td>\n",
       "      <td>0.0</td>\n",
       "      <td>112.986755</td>\n",
       "      <td>-35.978025</td>\n",
       "      <td>112.195227</td>\n",
       "      <td>48.581944</td>\n",
       "    </tr>\n",
       "    <tr>\n",
       "      <td>3</td>\n",
       "      <td>3</td>\n",
       "      <td>0.080078</td>\n",
       "      <td>0.0</td>\n",
       "      <td>0.0</td>\n",
       "      <td>101.0</td>\n",
       "      <td>0.0</td>\n",
       "      <td>604.0</td>\n",
       "      <td>0.0</td>\n",
       "      <td>112.996028</td>\n",
       "      <td>-35.988926</td>\n",
       "      <td>112.195227</td>\n",
       "      <td>48.581944</td>\n",
       "    </tr>\n",
       "    <tr>\n",
       "      <td>4</td>\n",
       "      <td>4</td>\n",
       "      <td>0.109863</td>\n",
       "      <td>0.0</td>\n",
       "      <td>0.0</td>\n",
       "      <td>101.0</td>\n",
       "      <td>0.0</td>\n",
       "      <td>606.0</td>\n",
       "      <td>0.0</td>\n",
       "      <td>113.005755</td>\n",
       "      <td>-35.999177</td>\n",
       "      <td>112.148169</td>\n",
       "      <td>48.549279</td>\n",
       "    </tr>\n",
       "    <tr>\n",
       "      <td>...</td>\n",
       "      <td>...</td>\n",
       "      <td>...</td>\n",
       "      <td>...</td>\n",
       "      <td>...</td>\n",
       "      <td>...</td>\n",
       "      <td>...</td>\n",
       "      <td>...</td>\n",
       "      <td>...</td>\n",
       "      <td>...</td>\n",
       "      <td>...</td>\n",
       "      <td>...</td>\n",
       "      <td>...</td>\n",
       "    </tr>\n",
       "    <tr>\n",
       "      <td>1557</td>\n",
       "      <td>1557</td>\n",
       "      <td>41.969727</td>\n",
       "      <td>0.0</td>\n",
       "      <td>0.0</td>\n",
       "      <td>101.0</td>\n",
       "      <td>0.0</td>\n",
       "      <td>607.0</td>\n",
       "      <td>0.0</td>\n",
       "      <td>113.087294</td>\n",
       "      <td>-35.751850</td>\n",
       "      <td>112.346403</td>\n",
       "      <td>48.760791</td>\n",
       "    </tr>\n",
       "    <tr>\n",
       "      <td>1558</td>\n",
       "      <td>1558</td>\n",
       "      <td>41.989746</td>\n",
       "      <td>0.0</td>\n",
       "      <td>0.0</td>\n",
       "      <td>100.0</td>\n",
       "      <td>0.0</td>\n",
       "      <td>608.0</td>\n",
       "      <td>0.0</td>\n",
       "      <td>113.075699</td>\n",
       "      <td>-35.750975</td>\n",
       "      <td>112.338676</td>\n",
       "      <td>48.746707</td>\n",
       "    </tr>\n",
       "    <tr>\n",
       "      <td>1559</td>\n",
       "      <td>1559</td>\n",
       "      <td>42.020020</td>\n",
       "      <td>0.0</td>\n",
       "      <td>0.0</td>\n",
       "      <td>101.0</td>\n",
       "      <td>0.0</td>\n",
       "      <td>606.0</td>\n",
       "      <td>0.0</td>\n",
       "      <td>113.075699</td>\n",
       "      <td>-35.750975</td>\n",
       "      <td>112.338676</td>\n",
       "      <td>48.746707</td>\n",
       "    </tr>\n",
       "    <tr>\n",
       "      <td>1560</td>\n",
       "      <td>1560</td>\n",
       "      <td>42.040039</td>\n",
       "      <td>0.0</td>\n",
       "      <td>0.0</td>\n",
       "      <td>101.0</td>\n",
       "      <td>0.0</td>\n",
       "      <td>606.0</td>\n",
       "      <td>0.0</td>\n",
       "      <td>113.097725</td>\n",
       "      <td>-35.740905</td>\n",
       "      <td>112.321224</td>\n",
       "      <td>48.729253</td>\n",
       "    </tr>\n",
       "    <tr>\n",
       "      <td>1561</td>\n",
       "      <td>1561</td>\n",
       "      <td>42.069824</td>\n",
       "      <td>0.0</td>\n",
       "      <td>0.0</td>\n",
       "      <td>101.0</td>\n",
       "      <td>0.0</td>\n",
       "      <td>606.0</td>\n",
       "      <td>0.0</td>\n",
       "      <td>113.083960</td>\n",
       "      <td>-35.770763</td>\n",
       "      <td>112.321224</td>\n",
       "      <td>48.729253</td>\n",
       "    </tr>\n",
       "  </tbody>\n",
       "</table>\n",
       "<p>1562 rows × 12 columns</p>\n",
       "</div>"
      ],
      "text/plain": [
       "      Unnamed: 0       time  left_pwm  right_pwm  left_pressure  \\\n",
       "0              0   0.000000       0.0        0.0          101.0   \n",
       "1              1   0.029785       0.0        0.0          102.0   \n",
       "2              2   0.049805       0.0        0.0          100.0   \n",
       "3              3   0.080078       0.0        0.0          101.0   \n",
       "4              4   0.109863       0.0        0.0          101.0   \n",
       "...          ...        ...       ...        ...            ...   \n",
       "1557        1557  41.969727       0.0        0.0          101.0   \n",
       "1558        1558  41.989746       0.0        0.0          100.0   \n",
       "1559        1559  42.020020       0.0        0.0          101.0   \n",
       "1560        1560  42.040039       0.0        0.0          101.0   \n",
       "1561        1561  42.069824       0.0        0.0          101.0   \n",
       "\n",
       "      right_pressure  left_flex  right_flex  base_pos_x  base_pos_y  \\\n",
       "0                0.0      603.0         0.0  112.969608  -35.971571   \n",
       "1                0.0      603.0         0.0  112.986755  -35.978025   \n",
       "2                0.0      605.0         0.0  112.986755  -35.978025   \n",
       "3                0.0      604.0         0.0  112.996028  -35.988926   \n",
       "4                0.0      606.0         0.0  113.005755  -35.999177   \n",
       "...              ...        ...         ...         ...         ...   \n",
       "1557             0.0      607.0         0.0  113.087294  -35.751850   \n",
       "1558             0.0      608.0         0.0  113.075699  -35.750975   \n",
       "1559             0.0      606.0         0.0  113.075699  -35.750975   \n",
       "1560             0.0      606.0         0.0  113.097725  -35.740905   \n",
       "1561             0.0      606.0         0.0  113.083960  -35.770763   \n",
       "\n",
       "       tip_pos_x  tip_pos_y  \n",
       "0     112.213581  48.617317  \n",
       "1     112.195227  48.581944  \n",
       "2     112.195227  48.581944  \n",
       "3     112.195227  48.581944  \n",
       "4     112.148169  48.549279  \n",
       "...          ...        ...  \n",
       "1557  112.346403  48.760791  \n",
       "1558  112.338676  48.746707  \n",
       "1559  112.338676  48.746707  \n",
       "1560  112.321224  48.729253  \n",
       "1561  112.321224  48.729253  \n",
       "\n",
       "[1562 rows x 12 columns]"
      ]
     },
     "execution_count": 105,
     "metadata": {},
     "output_type": "execute_result"
    }
   ],
   "source": [
    "df"
   ]
  },
  {
   "cell_type": "code",
   "execution_count": 106,
   "metadata": {},
   "outputs": [
    {
     "data": {
      "text/plain": [
       "[<matplotlib.lines.Line2D at 0x7f90ab029208>]"
      ]
     },
     "execution_count": 106,
     "metadata": {},
     "output_type": "execute_result"
    },
    {
     "data": {
      "image/png": "[encoded data removed]",
      "text/plain": [
       "<Figure size 432x288 with 1 Axes>"
      ]
     },
     "metadata": {
      "needs_background": "light"
     },
     "output_type": "display_data"
    }
   ],
   "source": [
    "plt.plot(df['left_flex'] - df.loc[0, 'left_flex'])"
   ]
  },
  {
   "cell_type": "code",
   "execution_count": 174,
   "metadata": {},
   "outputs": [],
   "source": [
    "def remove_drift(arr, thresh=20):\n",
    "    def reduce(arr):\n",
    "        if len(arr) > 50 :\n",
    "            return np.median(arr[:-50])\n",
    "        return np.median(arr)\n",
    "    prev = 0\n",
    "    x_hat_s = []\n",
    "    y_s_0 = arr[0]\n",
    "    for i in range(len(arr)):\n",
    "        if abs(arr[i] - y_s_0) > thresh:\n",
    "            x_hat_s.extend([reduce(list(df['left_flex'][prev:i]))]*(i - prev))\n",
    "            y_s_0 = arr[i]\n",
    "            prev = i\n",
    "    x_hat_s.extend([np.median(df['left_flex'][prev:i])]*(i - prev))\n",
    "    #x_hat_s = medfilt(x_hat_s, kernel_size=51)\n",
    "    return x_hat_s"
   ]
  },
  {
   "cell_type": "code",
   "execution_count": 175,
   "metadata": {},
   "outputs": [],
   "source": [
    "cleaned = remove_drift(df['left_flex'])"
   ]
  },
  {
   "cell_type": "code",
   "execution_count": 176,
   "metadata": {
    "scrolled": false
   },
   "outputs": [
    {
     "data": {
      "text/plain": [
       "[<matplotlib.lines.Line2D at 0x7f90a8a94e10>]"
      ]
     },
     "execution_count": 176,
     "metadata": {},
     "output_type": "execute_result"
    },
    {
     "data": {
      "image/png": "[encoded data removed]",
      "text/plain": [
       "<Figure size 1296x720 with 1 Axes>"
      ]
     },
     "metadata": {
      "needs_background": "light"
     },
     "output_type": "display_data"
    }
   ],
   "source": [
    "plt.figure(figsize=(18,10))\n",
    "plt.plot(cleaned)\n",
    "plt.plot(df['left_flex'])"
   ]
  },
  {
   "cell_type": "code",
   "execution_count": null,
   "metadata": {},
   "outputs": [],
   "source": []
  }
 ],
 "metadata": {
  "kernelspec": {
   "display_name": "Python 3",
   "language": "python",
   "name": "python3"
  },
  "language_info": {
   "codemirror_mode": {
    "name": "ipython",
    "version": 3
   },
   "file_extension": ".py",
   "mimetype": "text/x-python",
   "name": "python",
   "nbconvert_exporter": "python",
   "pygments_lexer": "ipython3",
   "version": "3.7.3"
  }
 },
 "nbformat": 4,
 "nbformat_minor": 2
}
